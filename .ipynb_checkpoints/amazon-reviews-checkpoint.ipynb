{
 "cells": [
  {
   "cell_type": "markdown",
   "metadata": {},
   "source": [
    "# Part 1 :  Data Scrapping from Amazon\n",
    "****\n",
    "****"
   ]
  },
  {
   "cell_type": "markdown",
   "metadata": {},
   "source": [
    "### Step 1: Import required libraries..\n",
    "***"
   ]
  },
  {
   "cell_type": "code",
   "execution_count": 12,
   "metadata": {},
   "outputs": [],
   "source": [
    "from bs4 import BeautifulSoup as bs\n",
    "import requests"
   ]
  },
  {
   "cell_type": "markdown",
   "metadata": {},
   "source": [
    "### Step 2: Url link  & page requests.. \n",
    "***"
   ]
  },
  {
   "cell_type": "code",
   "execution_count": 13,
   "metadata": {},
   "outputs": [],
   "source": [
    "# provide review page link so that we can fetch the data.\n",
    "url = 'https://www.amazon.in/boAt-BassHeads-100-Headphones-Black/product-reviews/B071Z8M4KX/ref=cm_cr_dp_d_show_all_btm?ie=UTF8&reviewerType=all_reviews'\n",
    "\n",
    "# set page request..\n",
    "page = requests.get(url)"
   ]
  },
  {
   "cell_type": "markdown",
   "metadata": {},
   "source": [
    "### Step 3: Parse the html data using beautiful soup\n",
    "***"
   ]
  },
  {
   "cell_type": "code",
   "execution_count": 14,
   "metadata": {
    "scrolled": true
   },
   "outputs": [],
   "source": [
    "soup = bs(page.content, 'html.parser')\n",
    "# print(soup.prettify())\n",
    "# the prettify function will print data in the satndard format so that it will readable"
   ]
  },
  {
   "cell_type": "markdown",
   "metadata": {},
   "source": [
    "### Step 4: Fetch the data required from diff html tags from url resource page/by page inspect method\n",
    "***"
   ]
  },
  {
   "cell_type": "markdown",
   "metadata": {},
   "source": [
    "#### 4.1 Fetching User names..\n",
    "***"
   ]
  },
  {
   "cell_type": "code",
   "execution_count": 26,
   "metadata": {},
   "outputs": [
    {
     "data": {
      "text/plain": [
       "<span class=\"a-profile-name\">Neshway</span>"
      ]
     },
     "execution_count": 26,
     "metadata": {},
     "output_type": "execute_result"
    }
   ],
   "source": [
    "# do right click on user name & inspect. observe where the user name is provided.\n",
    "#..in this case user name is in 'span' tag. But html page contains huge no. of span tags so we take check\n",
    "#...in which class all user name span tag is associated. \n",
    "\n",
    "users = soup.find_all('span', class_='a-profile-name')\n",
    "\n",
    "# since it is list, crossverifying first name from the given list..\n",
    "users[0]"
   ]
  },
  {
   "cell_type": "code",
   "execution_count": 29,
   "metadata": {},
   "outputs": [],
   "source": [
    "# extracting only text from users list..\n",
    "\n",
    "user_names = []\n",
    "for i in range(0, len(users)):\n",
    "    user_names.append(users[i].get_text())"
   ]
  },
  {
   "cell_type": "code",
   "execution_count": 20,
   "metadata": {},
   "outputs": [
    {
     "data": {
      "text/plain": [
       "['Neshway',\n",
       " 'Himalayan Rony',\n",
       " 'Neshway',\n",
       " 'Himalayan Rony',\n",
       " 'Hrithik Modi',\n",
       " 'Aashita ',\n",
       " 'Akshay joshi',\n",
       " 'Soham Roy',\n",
       " 'martin',\n",
       " 'Nikhil',\n",
       " 'Amazon Customer',\n",
       " 'Gnc']"
      ]
     },
     "execution_count": 20,
     "metadata": {},
     "output_type": "execute_result"
    }
   ],
   "source": [
    "user_names"
   ]
  },
  {
   "cell_type": "markdown",
   "metadata": {},
   "source": [
    "#### 4.2 Fetching Review titles...\n",
    "***"
   ]
  },
  {
   "cell_type": "markdown",
   "metadata": {},
   "source": [
    "![](https://github.com/ShrikantUppin/NLP/blob/main/amazon_review.png?raw=true)"
   ]
  },
  {
   "cell_type": "code",
   "execution_count": 55,
   "metadata": {},
   "outputs": [
    {
     "data": {
      "text/plain": [
       "<a class=\"a-size-base a-link-normal review-title a-color-base review-title-content a-text-bold\" data-hook=\"review-title\" href=\"/gp/customer-reviews/R270ZWETAMQXXT?ASIN=B071Z8M4KX\">\n",
       "<span>Worth the money</span>\n",
       "</a>"
      ]
     },
     "execution_count": 55,
     "metadata": {},
     "output_type": "execute_result"
    }
   ],
   "source": [
    "titles = soup.find_all('a', class_='review-title-content')\n",
    "\n",
    "# since it is list, crossverifying first name from the given list..\n",
    "titles[0]"
   ]
  },
  {
   "cell_type": "code",
   "execution_count": 56,
   "metadata": {},
   "outputs": [
    {
     "data": {
      "text/plain": [
       "['\\nWorth the money\\n',\n",
       " '\\nMust watch this detailed 👉 REVIEW ☺️\\n',\n",
       " '\\nVFM Product\\n',\n",
       " '\\nThe repair/replacement process is hassle free and easy!\\n',\n",
       " '\\nGood but lack bass...\\n',\n",
       " '\\nQuality sound\\n',\n",
       " '\\nBest for the price\\n',\n",
       " '\\nExcellent after sales services and value for money\\n',\n",
       " '\\nBroken headset\\n',\n",
       " '\\nGood\\n']"
      ]
     },
     "execution_count": 56,
     "metadata": {},
     "output_type": "execute_result"
    }
   ],
   "source": [
    "# extracting only review text from titltles list..\n",
    "\n",
    "review_title = []\n",
    "for i in range(0, len(titles)):\n",
    "    review_title.append(titles[i].get_text())\n",
    "review_title "
   ]
  },
  {
   "cell_type": "code",
   "execution_count": 57,
   "metadata": {},
   "outputs": [
    {
     "data": {
      "text/plain": [
       "['Worth the money',\n",
       " 'Must watch this detailed 👉 REVIEW ☺️',\n",
       " 'VFM Product',\n",
       " 'The repair/replacement process is hassle free and easy!',\n",
       " 'Good but lack bass...',\n",
       " 'Quality sound',\n",
       " 'Best for the price',\n",
       " 'Excellent after sales services and value for money',\n",
       " 'Broken headset',\n",
       " 'Good']"
      ]
     },
     "execution_count": 57,
     "metadata": {},
     "output_type": "execute_result"
    }
   ],
   "source": [
    "# We can obeserve that \\n in above review_titles.So need to clean it..\n",
    "\n",
    "for i in range(len(review_title)):\n",
    "    review_title[i] = review_title[i].lstrip('\\n')\n",
    "    review_title[i] = review_title[i].rstrip('\\n')\n",
    "    \n",
    "review_title"
   ]
  },
  {
   "cell_type": "markdown",
   "metadata": {},
   "source": [
    "#### 4.3 Fetching Review ratings i.e. reviews star numbers..\n",
    "***"
   ]
  },
  {
   "cell_type": "code",
   "execution_count": 58,
   "metadata": {},
   "outputs": [
    {
     "data": {
      "text/plain": [
       "<i class=\"a-icon a-icon-star a-star-5 review-rating\" data-hook=\"review-star-rating-view-point\"><span class=\"a-icon-alt\">5.0 out of 5 stars</span></i>"
      ]
     },
     "execution_count": 58,
     "metadata": {},
     "output_type": "execute_result"
    }
   ],
   "source": [
    "ratings = soup.find_all('i', class_='review-rating')\n",
    "\n",
    "# since it is list, crossverifying first name from the given list..\n",
    "ratings[0]"
   ]
  },
  {
   "cell_type": "code",
   "execution_count": 69,
   "metadata": {},
   "outputs": [
    {
     "data": {
      "text/plain": [
       "['5.0 out of 5 stars',\n",
       " '3.0 out of 5 stars',\n",
       " '5.0 out of 5 stars',\n",
       " '3.0 out of 5 stars',\n",
       " '5.0 out of 5 stars',\n",
       " '5.0 out of 5 stars',\n",
       " '3.0 out of 5 stars',\n",
       " '4.0 out of 5 stars',\n",
       " '4.0 out of 5 stars',\n",
       " '5.0 out of 5 stars',\n",
       " '1.0 out of 5 stars',\n",
       " '4.0 out of 5 stars']"
      ]
     },
     "execution_count": 69,
     "metadata": {},
     "output_type": "execute_result"
    }
   ],
   "source": [
    "# extracting only review text from ratings list..\n",
    "\n",
    "rating_numbers = []\n",
    "for i in range(0, len(ratings)):\n",
    "    rating_numbers.append(ratings[i].get_text())\n",
    "    \n",
    "rating_numbers"
   ]
  },
  {
   "cell_type": "code",
   "execution_count": 71,
   "metadata": {},
   "outputs": [],
   "source": [
    "# putting only float type rating in rating_number list..\n",
    "\n",
    "for i in range(0, len(rating_numbers)):\n",
    "    rating_numbers[i] = float(rating_numbers[i][0:3]) # Used lsit slicing +string slicing.."
   ]
  },
  {
   "cell_type": "code",
   "execution_count": 72,
   "metadata": {},
   "outputs": [
    {
     "data": {
      "text/plain": [
       "[5.0, 3.0, 5.0, 3.0, 5.0, 5.0, 3.0, 4.0, 4.0, 5.0, 1.0, 4.0]"
      ]
     },
     "execution_count": 72,
     "metadata": {},
     "output_type": "execute_result"
    }
   ],
   "source": [
    "rating_numbers"
   ]
  },
  {
   "cell_type": "code",
   "execution_count": null,
   "metadata": {},
   "outputs": [],
   "source": []
  }
 ],
 "metadata": {
  "kernelspec": {
   "display_name": "Python 3",
   "language": "python",
   "name": "python3"
  },
  "language_info": {
   "codemirror_mode": {
    "name": "ipython",
    "version": 3
   },
   "file_extension": ".py",
   "mimetype": "text/x-python",
   "name": "python",
   "nbconvert_exporter": "python",
   "pygments_lexer": "ipython3",
   "version": "3.8.0"
  }
 },
 "nbformat": 4,
 "nbformat_minor": 4
}
