{
 "cells": [
  {
   "cell_type": "markdown",
   "metadata": {},
   "source": [
    "# Part 1 :  Data Scrapping from Amazon\n",
    "****\n",
    "****"
   ]
  },
  {
   "cell_type": "markdown",
   "metadata": {},
   "source": [
    "### Step 1: Import required libraries..\n",
    "***"
   ]
  },
  {
   "cell_type": "code",
   "execution_count": 12,
   "metadata": {},
   "outputs": [],
   "source": [
    "from bs4 import BeautifulSoup as bs\n",
    "import requests"
   ]
  },
  {
   "cell_type": "markdown",
   "metadata": {},
   "source": [
    "### Step 2: Url link  & page requests.. \n",
    "***"
   ]
  },
  {
   "cell_type": "code",
   "execution_count": 13,
   "metadata": {},
   "outputs": [],
   "source": [
    "# provide review page link so that we can fetch the data.\n",
    "url = 'https://www.amazon.in/boAt-BassHeads-100-Headphones-Black/product-reviews/B071Z8M4KX/ref=cm_cr_dp_d_show_all_btm?ie=UTF8&reviewerType=all_reviews'\n",
    "\n",
    "# set page request..\n",
    "page = requests.get(url)"
   ]
  },
  {
   "cell_type": "markdown",
   "metadata": {},
   "source": [
    "### Step 3: Parse the html data using beautiful soup\n",
    "***"
   ]
  },
  {
   "cell_type": "code",
   "execution_count": 14,
   "metadata": {
    "scrolled": true
   },
   "outputs": [],
   "source": [
    "soup = bs(page.content, 'html.parser')\n",
    "# print(soup.prettify())\n",
    "# the prettify function will print data in the satndard format so that it will readable"
   ]
  },
  {
   "cell_type": "markdown",
   "metadata": {},
   "source": [
    "### Step 4: Fetch the data required from diff html tags from url resource page/by page inspect method\n",
    "***"
   ]
  },
  {
   "cell_type": "markdown",
   "metadata": {},
   "source": [
    "#### 4.1 Fetching User names..\n",
    "***"
   ]
  },
  {
   "cell_type": "code",
   "execution_count": 26,
   "metadata": {},
   "outputs": [
    {
     "data": {
      "text/plain": [
       "<span class=\"a-profile-name\">Neshway</span>"
      ]
     },
     "execution_count": 26,
     "metadata": {},
     "output_type": "execute_result"
    }
   ],
   "source": [
    "# do right click on user name & inspect. observe where the user name is provided.\n",
    "#..in this case user name is in 'span' tag. But html page contains huge no. of span tags so we take check\n",
    "#...in which class all user name span tag is associated. \n",
    "\n",
    "users = soup.find_all('span', class_='a-profile-name')\n",
    "\n",
    "# since it is list, crossverifying first name from the given list..\n",
    "users[0]"
   ]
  },
  {
   "cell_type": "code",
   "execution_count": 29,
   "metadata": {},
   "outputs": [],
   "source": [
    "# extracting only text from users list..\n",
    "\n",
    "user_names = []\n",
    "for i in range(0, len(users)):\n",
    "    user_names.append(users[i].get_text())"
   ]
  },
  {
   "cell_type": "code",
   "execution_count": 20,
   "metadata": {},
   "outputs": [
    {
     "data": {
      "text/plain": [
       "['Neshway',\n",
       " 'Himalayan Rony',\n",
       " 'Neshway',\n",
       " 'Himalayan Rony',\n",
       " 'Hrithik Modi',\n",
       " 'Aashita ',\n",
       " 'Akshay joshi',\n",
       " 'Soham Roy',\n",
       " 'martin',\n",
       " 'Nikhil',\n",
       " 'Amazon Customer',\n",
       " 'Gnc']"
      ]
     },
     "execution_count": 20,
     "metadata": {},
     "output_type": "execute_result"
    }
   ],
   "source": [
    "user_names"
   ]
  },
  {
   "cell_type": "markdown",
   "metadata": {},
   "source": [
    "#### 4.2 Fetching Review titles...\n",
    "***"
   ]
  },
  {
   "cell_type": "markdown",
   "metadata": {},
   "source": [
    "![](https://github.com/ShrikantUppin/NLP/blob/main/amazon_review.png?raw=true)"
   ]
  },
  {
   "cell_type": "code",
   "execution_count": 55,
   "metadata": {},
   "outputs": [
    {
     "data": {
      "text/plain": [
       "<a class=\"a-size-base a-link-normal review-title a-color-base review-title-content a-text-bold\" data-hook=\"review-title\" href=\"/gp/customer-reviews/R270ZWETAMQXXT?ASIN=B071Z8M4KX\">\n",
       "<span>Worth the money</span>\n",
       "</a>"
      ]
     },
     "execution_count": 55,
     "metadata": {},
     "output_type": "execute_result"
    }
   ],
   "source": [
    "titles = soup.find_all('a', class_='review-title-content')\n",
    "\n",
    "# since it is list, crossverifying revie title from the given list..\n",
    "titles[0]"
   ]
  },
  {
   "cell_type": "code",
   "execution_count": 56,
   "metadata": {},
   "outputs": [
    {
     "data": {
      "text/plain": [
       "['\\nWorth the money\\n',\n",
       " '\\nMust watch this detailed 👉 REVIEW ☺️\\n',\n",
       " '\\nVFM Product\\n',\n",
       " '\\nThe repair/replacement process is hassle free and easy!\\n',\n",
       " '\\nGood but lack bass...\\n',\n",
       " '\\nQuality sound\\n',\n",
       " '\\nBest for the price\\n',\n",
       " '\\nExcellent after sales services and value for money\\n',\n",
       " '\\nBroken headset\\n',\n",
       " '\\nGood\\n']"
      ]
     },
     "execution_count": 56,
     "metadata": {},
     "output_type": "execute_result"
    }
   ],
   "source": [
    "# extracting only review text from titltles list..\n",
    "\n",
    "review_title = []\n",
    "for i in range(0, len(titles)):\n",
    "    review_title.append(titles[i].get_text())\n",
    "review_title "
   ]
  },
  {
   "cell_type": "code",
   "execution_count": 57,
   "metadata": {},
   "outputs": [
    {
     "data": {
      "text/plain": [
       "['Worth the money',\n",
       " 'Must watch this detailed 👉 REVIEW ☺️',\n",
       " 'VFM Product',\n",
       " 'The repair/replacement process is hassle free and easy!',\n",
       " 'Good but lack bass...',\n",
       " 'Quality sound',\n",
       " 'Best for the price',\n",
       " 'Excellent after sales services and value for money',\n",
       " 'Broken headset',\n",
       " 'Good']"
      ]
     },
     "execution_count": 57,
     "metadata": {},
     "output_type": "execute_result"
    }
   ],
   "source": [
    "# We can obeserve that \\n in above review_titles.So need to clean it..\n",
    "\n",
    "for i in range(len(review_title)):\n",
    "    review_title[i] = review_title[i].lstrip('\\n')\n",
    "    review_title[i] = review_title[i].rstrip('\\n')\n",
    "    \n",
    "review_title"
   ]
  },
  {
   "cell_type": "markdown",
   "metadata": {},
   "source": [
    "#### 4.3 Fetching Review ratings i.e. reviews star numbers..\n",
    "***"
   ]
  },
  {
   "cell_type": "code",
   "execution_count": 58,
   "metadata": {},
   "outputs": [
    {
     "data": {
      "text/plain": [
       "<i class=\"a-icon a-icon-star a-star-5 review-rating\" data-hook=\"review-star-rating-view-point\"><span class=\"a-icon-alt\">5.0 out of 5 stars</span></i>"
      ]
     },
     "execution_count": 58,
     "metadata": {},
     "output_type": "execute_result"
    }
   ],
   "source": [
    "ratings = soup.find_all('i', class_='review-rating')\n",
    "\n",
    "# since it is list, crossverifying first rating from the given list..\n",
    "ratings[0]"
   ]
  },
  {
   "cell_type": "code",
   "execution_count": 69,
   "metadata": {},
   "outputs": [
    {
     "data": {
      "text/plain": [
       "['5.0 out of 5 stars',\n",
       " '3.0 out of 5 stars',\n",
       " '5.0 out of 5 stars',\n",
       " '3.0 out of 5 stars',\n",
       " '5.0 out of 5 stars',\n",
       " '5.0 out of 5 stars',\n",
       " '3.0 out of 5 stars',\n",
       " '4.0 out of 5 stars',\n",
       " '4.0 out of 5 stars',\n",
       " '5.0 out of 5 stars',\n",
       " '1.0 out of 5 stars',\n",
       " '4.0 out of 5 stars']"
      ]
     },
     "execution_count": 69,
     "metadata": {},
     "output_type": "execute_result"
    }
   ],
   "source": [
    "# extracting only review text from ratings list..\n",
    "\n",
    "rating_numbers = []\n",
    "for i in range(0, len(ratings)):\n",
    "    rating_numbers.append(ratings[i].get_text())\n",
    "    \n",
    "rating_numbers"
   ]
  },
  {
   "cell_type": "code",
   "execution_count": 71,
   "metadata": {},
   "outputs": [],
   "source": [
    "# putting only float type rating in rating_number list..\n",
    "\n",
    "for i in range(0, len(rating_numbers)):\n",
    "    rating_numbers[i] = float(rating_numbers[i][0:3]) # Used lsit slicing +string slicing.."
   ]
  },
  {
   "cell_type": "code",
   "execution_count": 72,
   "metadata": {},
   "outputs": [
    {
     "data": {
      "text/plain": [
       "[5.0, 3.0, 5.0, 3.0, 5.0, 5.0, 3.0, 4.0, 4.0, 5.0, 1.0, 4.0]"
      ]
     },
     "execution_count": 72,
     "metadata": {},
     "output_type": "execute_result"
    }
   ],
   "source": [
    "rating_numbers"
   ]
  },
  {
   "cell_type": "markdown",
   "metadata": {},
   "source": [
    "#### 4.4 Fetching Review text\n",
    "***"
   ]
  },
  {
   "cell_type": "markdown",
   "metadata": {},
   "source": [
    "![](https://github.com/ShrikantUppin/NLP/blob/main/revie_text.png?raw=true)"
   ]
  },
  {
   "cell_type": "code",
   "execution_count": 75,
   "metadata": {},
   "outputs": [
    {
     "data": {
      "text/plain": [
       "<span class=\"a-size-base review-text review-text-content\" data-hook=\"review-body\">\n",
       "<span>\n",
       "  One of the best pair of earphone for the price<br/><br/>1} Sound quality is amazing for the price 😍<br/>2} Built quality is good but not the best but  for the budget price I can say its good ⚡<br/>3} Headphone jack is not gold plated ⚠️<br/>4} I have been using this earphone from past more than a year and have replaced it once under warranty which was super easy hassel free🎶<br/>5} I have used many other brand earphones such as JBL, Sony, Sennheiser, RHA, Boultaudio and recently Infinity and I am not a professional but have experience of many earphones so I can say this is the best sounding in budget and very comfortable in shape to use for longer duration 💯💥<br/><br/>I can definitely recommend this earphones must buy in budget segment 🔝🔝✅🔥🔥\n",
       "</span>\n",
       "</span>"
      ]
     },
     "execution_count": 75,
     "metadata": {},
     "output_type": "execute_result"
    }
   ],
   "source": [
    "# if we observe the review span tag is not having any class name...\n",
    "#.. we will take the upper span & will access without using class name..\n",
    "# so to access any tag data without using class name.. the dict method is used in beautiful soup \n",
    "#........................................................................................as below.\n",
    "\n",
    "\n",
    "review_para = soup.find_all('span', {\"data-hook\":\"review-body\"})\n",
    "\n",
    "# since it is list, crossverifying first review from the given list..\n",
    "review_para[0]"
   ]
  },
  {
   "cell_type": "code",
   "execution_count": 77,
   "metadata": {},
   "outputs": [
    {
     "data": {
      "text/plain": [
       "'\\n\\n  One of the best pair of earphone for the price1} Sound quality is amazing for the price 😍2} Built quality is good but not the best but  for the budget price I can say its good ⚡3} Headphone jack is not gold plated ⚠️4} I have been using this earphone from past more than a year and have replaced it once under warranty which was super easy hassel free🎶5} I have used many other brand earphones such as JBL, Sony, Sennheiser, RHA, Boultaudio and recently Infinity and I am not a professional but have experience of many earphones so I can say this is the best sounding in budget and very comfortable in shape to use for longer duration 💯💥I can definitely recommend this earphones must buy in budget segment 🔝🔝✅🔥🔥\\n\\n'"
      ]
     },
     "execution_count": 77,
     "metadata": {},
     "output_type": "execute_result"
    }
   ],
   "source": [
    "# extracting only review para from ratings list..\n",
    "\n",
    "review_detail = []\n",
    "for i in range(0, len(review_para)):\n",
    "    review_detail.append(review_para[i].get_text())\n",
    "    \n",
    "review_detail[0]"
   ]
  },
  {
   "cell_type": "code",
   "execution_count": 79,
   "metadata": {},
   "outputs": [
    {
     "data": {
      "text/plain": [
       "'  One of the best pair of earphone for the price1} Sound quality is amazing for the price 😍2} Built quality is good but not the best but  for the budget price I can say its good ⚡3} Headphone jack is not gold plated ⚠️4} I have been using this earphone from past more than a year and have replaced it once under warranty which was super easy hassel free🎶5} I have used many other brand earphones such as JBL, Sony, Sennheiser, RHA, Boultaudio and recently Infinity and I am not a professional but have experience of many earphones so I can say this is the best sounding in budget and very comfortable in shape to use for longer duration 💯💥I can definitely recommend this earphones must buy in budget segment 🔝🔝✅🔥🔥'"
      ]
     },
     "execution_count": 79,
     "metadata": {},
     "output_type": "execute_result"
    }
   ],
   "source": [
    "# We can obeserve that \\n in above review_details .So need to clean it..\n",
    "\n",
    "for i in range(len(review_detail)):\n",
    "    review_detail[i] = review_detail[i].lstrip('\\n')\n",
    "    review_detail[i] = review_detail[i].rstrip('\\n')\n",
    "    \n",
    "review_detail[0]"
   ]
  },
  {
   "cell_type": "markdown",
   "metadata": {},
   "source": [
    "### Step 5: Creating pandas Dataframe\n",
    "***"
   ]
  },
  {
   "cell_type": "code",
   "execution_count": 113,
   "metadata": {},
   "outputs": [],
   "source": [
    "# since pandas dataframe requires equal length arrays/lists. Need to check list lengths first.\n",
    "import numpy as np\n",
    "import pandas as pd \n",
    "\n",
    "lists = [user_names, review_title, rating_numbers, review_detail]\n",
    "\n",
    "length = [] \n",
    "for i in range(len(lists)):\n",
    "    length.append(len(lists[i]))\n",
    "    if len(lists[i])>max(length):\n",
    "        lists[i] = lists[i]\n",
    "    else:\n",
    "        difference = max(length)-len(lists[i])\n",
    "        lists[i].extend([np.nan for i in range(difference)])\n"
   ]
  },
  {
   "cell_type": "code",
   "execution_count": 114,
   "metadata": {},
   "outputs": [],
   "source": [
    "amazon_reviews = pd.DataFrame({'User_Name':user_names, 'Review_title':review_title,\\\n",
    "                              'Ratings':rating_numbers, 'Review':review_detail})"
   ]
  },
  {
   "cell_type": "code",
   "execution_count": 115,
   "metadata": {},
   "outputs": [
    {
     "data": {
      "text/html": [
       "<div>\n",
       "<style scoped>\n",
       "    .dataframe tbody tr th:only-of-type {\n",
       "        vertical-align: middle;\n",
       "    }\n",
       "\n",
       "    .dataframe tbody tr th {\n",
       "        vertical-align: top;\n",
       "    }\n",
       "\n",
       "    .dataframe thead th {\n",
       "        text-align: right;\n",
       "    }\n",
       "</style>\n",
       "<table border=\"1\" class=\"dataframe\">\n",
       "  <thead>\n",
       "    <tr style=\"text-align: right;\">\n",
       "      <th></th>\n",
       "      <th>User_Name</th>\n",
       "      <th>Review_title</th>\n",
       "      <th>Ratings</th>\n",
       "      <th>Review</th>\n",
       "    </tr>\n",
       "  </thead>\n",
       "  <tbody>\n",
       "    <tr>\n",
       "      <th>0</th>\n",
       "      <td>Neshway</td>\n",
       "      <td>Worth the money</td>\n",
       "      <td>5.0</td>\n",
       "      <td>One of the best pair of earphone for the pri...</td>\n",
       "    </tr>\n",
       "    <tr>\n",
       "      <th>1</th>\n",
       "      <td>Himalayan Rony</td>\n",
       "      <td>Must watch this detailed 👉 REVIEW ☺️</td>\n",
       "      <td>3.0</td>\n",
       "      <td>I have purchased this boat earphone few mont...</td>\n",
       "    </tr>\n",
       "    <tr>\n",
       "      <th>2</th>\n",
       "      <td>Neshway</td>\n",
       "      <td>VFM Product</td>\n",
       "      <td>5.0</td>\n",
       "      <td>Build quality (5/5)Durability (4/5)Wire leng...</td>\n",
       "    </tr>\n",
       "    <tr>\n",
       "      <th>3</th>\n",
       "      <td>Himalayan Rony</td>\n",
       "      <td>The repair/replacement process is hassle free ...</td>\n",
       "      <td>3.0</td>\n",
       "      <td>Love the sound quality, but moreover the ser...</td>\n",
       "    </tr>\n",
       "    <tr>\n",
       "      <th>4</th>\n",
       "      <td>Hrithik Modi</td>\n",
       "      <td>Good but lack bass...</td>\n",
       "      <td>5.0</td>\n",
       "      <td>I bought this in sept and I'm NOT SATISFIED ...</td>\n",
       "    </tr>\n",
       "    <tr>\n",
       "      <th>5</th>\n",
       "      <td>Aashita</td>\n",
       "      <td>Quality sound</td>\n",
       "      <td>5.0</td>\n",
       "      <td>This is a very great earphone with a good qu...</td>\n",
       "    </tr>\n",
       "    <tr>\n",
       "      <th>6</th>\n",
       "      <td>Akshay joshi</td>\n",
       "      <td>Best for the price</td>\n",
       "      <td>3.0</td>\n",
       "      <td>For a price of rs 400 it's worth the cost, i...</td>\n",
       "    </tr>\n",
       "    <tr>\n",
       "      <th>7</th>\n",
       "      <td>Soham Roy</td>\n",
       "      <td>Excellent after sales services and value for m...</td>\n",
       "      <td>4.0</td>\n",
       "      <td>I bought this earphone cause I had read in t...</td>\n",
       "    </tr>\n",
       "    <tr>\n",
       "      <th>8</th>\n",
       "      <td>martin</td>\n",
       "      <td>Broken headset</td>\n",
       "      <td>4.0</td>\n",
       "      <td>One of my friend has this product that's y I...</td>\n",
       "    </tr>\n",
       "    <tr>\n",
       "      <th>9</th>\n",
       "      <td>Nikhil</td>\n",
       "      <td>Good</td>\n",
       "      <td>5.0</td>\n",
       "      <td>Got it for 400.  Okay for the price.</td>\n",
       "    </tr>\n",
       "    <tr>\n",
       "      <th>10</th>\n",
       "      <td>Amazon Customer</td>\n",
       "      <td>NaN</td>\n",
       "      <td>1.0</td>\n",
       "      <td>NaN</td>\n",
       "    </tr>\n",
       "    <tr>\n",
       "      <th>11</th>\n",
       "      <td>Gnc</td>\n",
       "      <td>NaN</td>\n",
       "      <td>4.0</td>\n",
       "      <td>NaN</td>\n",
       "    </tr>\n",
       "  </tbody>\n",
       "</table>\n",
       "</div>"
      ],
      "text/plain": [
       "          User_Name                                       Review_title  \\\n",
       "0           Neshway                                    Worth the money   \n",
       "1    Himalayan Rony               Must watch this detailed 👉 REVIEW ☺️   \n",
       "2           Neshway                                        VFM Product   \n",
       "3    Himalayan Rony  The repair/replacement process is hassle free ...   \n",
       "4      Hrithik Modi                              Good but lack bass...   \n",
       "5          Aashita                                       Quality sound   \n",
       "6      Akshay joshi                                 Best for the price   \n",
       "7         Soham Roy  Excellent after sales services and value for m...   \n",
       "8            martin                                     Broken headset   \n",
       "9            Nikhil                                               Good   \n",
       "10  Amazon Customer                                                NaN   \n",
       "11              Gnc                                                NaN   \n",
       "\n",
       "    Ratings                                             Review  \n",
       "0       5.0    One of the best pair of earphone for the pri...  \n",
       "1       3.0    I have purchased this boat earphone few mont...  \n",
       "2       5.0    Build quality (5/5)Durability (4/5)Wire leng...  \n",
       "3       3.0    Love the sound quality, but moreover the ser...  \n",
       "4       5.0    I bought this in sept and I'm NOT SATISFIED ...  \n",
       "5       5.0    This is a very great earphone with a good qu...  \n",
       "6       3.0    For a price of rs 400 it's worth the cost, i...  \n",
       "7       4.0    I bought this earphone cause I had read in t...  \n",
       "8       4.0    One of my friend has this product that's y I...  \n",
       "9       5.0               Got it for 400.  Okay for the price.  \n",
       "10      1.0                                                NaN  \n",
       "11      4.0                                                NaN  "
      ]
     },
     "execution_count": 115,
     "metadata": {},
     "output_type": "execute_result"
    }
   ],
   "source": [
    "amazon_reviews"
   ]
  },
  {
   "cell_type": "code",
   "execution_count": null,
   "metadata": {},
   "outputs": [],
   "source": []
  }
 ],
 "metadata": {
  "kernelspec": {
   "display_name": "Python 3",
   "language": "python",
   "name": "python3"
  },
  "language_info": {
   "codemirror_mode": {
    "name": "ipython",
    "version": 3
   },
   "file_extension": ".py",
   "mimetype": "text/x-python",
   "name": "python",
   "nbconvert_exporter": "python",
   "pygments_lexer": "ipython3",
   "version": "3.8.0"
  }
 },
 "nbformat": 4,
 "nbformat_minor": 4
}
