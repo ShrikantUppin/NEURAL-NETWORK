{
 "cells": [
  {
   "cell_type": "markdown",
   "metadata": {},
   "source": [
    "# Regular Expressions in Python"
   ]
  },
  {
   "cell_type": "markdown",
   "metadata": {},
   "source": [
    "### Basic Patterns: Ordinary Characters"
   ]
  },
  {
   "cell_type": "code",
   "execution_count": 16,
   "metadata": {},
   "outputs": [],
   "source": [
    "# match(): this checks if sequence is at start of string..\n",
    "# Signature: re.match(pattern, string, flags=0)\n",
    "\n",
    "import re\n",
    "\n",
    "string1 = \"Cookie\"\n",
    "string2 = \"I want Cookie\"\n",
    "\n",
    "# sequence is nothing but word/string u want to match in goven string..\n",
    "sequence = \"Cookie\"\n",
    "\n",
    "\n",
    "# function creted for understanding..this is for understanding\n",
    "def match(pattern, sequence):\n",
    "    if re.match(pattern, sequence):\n",
    "        print(\"Match!\")\n",
    "    else: \n",
    "        print(\"Not a match!\")"
   ]
  },
  {
   "cell_type": "code",
   "execution_count": 17,
   "metadata": {},
   "outputs": [
    {
     "name": "stdout",
     "output_type": "stream",
     "text": [
      "Match!\n",
      "Not a match!\n"
     ]
    }
   ],
   "source": [
    "# lets test..\n",
    "\n",
    "match(string1, sequence)\n",
    "match(string2, sequence)"
   ]
  },
  {
   "cell_type": "code",
   "execution_count": 25,
   "metadata": {},
   "outputs": [
    {
     "data": {
      "text/plain": [
       "'Cookie'"
      ]
     },
     "execution_count": 25,
     "metadata": {},
     "output_type": "execute_result"
    }
   ],
   "source": [
    "# alternatively u can use directly...\n",
    "\n",
    "re.match(string1, sequence).group()"
   ]
  },
  {
   "cell_type": "markdown",
   "metadata": {},
   "source": [
    "### Wild Card Characters: Special Characters"
   ]
  },
  {
   "cell_type": "markdown",
   "metadata": {},
   "source": [
    " #### re.search() :\n",
    "With the search function, you scan through the given string/sequence, looking for the first location where the regular expression produces a match.\n",
    "\n",
    "\n",
    " #### re.group()\n",
    "The group function returns the string matched by the re.\n",
    "\n",
    " #### Special Characters:\n",
    " \n",
    " https://docs.python.org/3/library/re.html#module-re"
   ]
  },
  {
   "cell_type": "code",
   "execution_count": 37,
   "metadata": {},
   "outputs": [
    {
     "data": {
      "text/plain": [
       "'Cookie'"
      ]
     },
     "execution_count": 37,
     "metadata": {},
     "output_type": "execute_result"
    }
   ],
   "source": [
    "# . - A period. Matches any single character except the newline character.\n",
    "\n",
    "# search():  will search all patterns\n",
    "# Since dot(.) is given so if you try to reapeat letter in pattern it will through an error\n",
    "\n",
    "re.search('Co.k.e','Cookie').group()\n",
    "# output : 'Cookie' \n",
    "\n",
    "# re.search('Coo.k.e','Cookie').group() # Since we have repeated 'o' character in pattern.\n",
    "# will result in error"
   ]
  },
  {
   "cell_type": "code",
   "execution_count": 41,
   "metadata": {},
   "outputs": [
    {
     "data": {
      "text/plain": [
       "'eat'"
      ]
     },
     "execution_count": 41,
     "metadata": {},
     "output_type": "execute_result"
    }
   ],
   "source": [
    "# ^ (caret): this will match pattern only at the start at string\n",
    "\n",
    "re.search('^eat', \"eat Let's cake!\").group()\n",
    "# output: 'eat'\n",
    "\n",
    "# re.search('^eat', \"Let's eat  cake!\").group()\n",
    "# output : error. Since eat is not at the start of string"
   ]
  },
  {
   "cell_type": "code",
   "execution_count": 44,
   "metadata": {},
   "outputs": [
    {
     "data": {
      "text/plain": [
       "'cake'"
      ]
     },
     "execution_count": 44,
     "metadata": {},
     "output_type": "execute_result"
    }
   ],
   "source": [
    "# $ - Matches the end of string.\n",
    "\n",
    "re.search(r'cake$', \"Cake! Let's eat cake\").group()\n",
    "# Output: 'cake'\n",
    "\n",
    "# re.search(r'cake$', \"Cake! Let's eat\").group()\n",
    "# Output: error. Since cake is not present at the end of the string"
   ]
  },
  {
   "cell_type": "code",
   "execution_count": 47,
   "metadata": {},
   "outputs": [
    {
     "data": {
      "text/plain": [
       "'5'"
      ]
     },
     "execution_count": 47,
     "metadata": {},
     "output_type": "execute_result"
    }
   ],
   "source": [
    "# [abc] - Matches a or b or c.\n",
    "# [a-zA-Z0-9] - Matches any letter from (a to z) or (A to Z) or (0 to 9).\n",
    "\n",
    "re.search('[0-6]', ' check tis present in this string 5. Yes present 5').group()"
   ]
  }
 ],
 "metadata": {
  "kernelspec": {
   "display_name": "Python 3",
   "language": "python",
   "name": "python3"
  },
  "language_info": {
   "codemirror_mode": {
    "name": "ipython",
    "version": 3
   },
   "file_extension": ".py",
   "mimetype": "text/x-python",
   "name": "python",
   "nbconvert_exporter": "python",
   "pygments_lexer": "ipython3",
   "version": "3.8.0"
  }
 },
 "nbformat": 4,
 "nbformat_minor": 4
}
