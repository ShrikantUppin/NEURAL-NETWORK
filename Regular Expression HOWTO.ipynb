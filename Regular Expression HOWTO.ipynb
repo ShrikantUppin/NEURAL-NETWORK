{
 "cells": [
  {
   "cell_type": "markdown",
   "metadata": {},
   "source": [
    "# Regular Expressions in Python"
   ]
  },
  {
   "cell_type": "markdown",
   "metadata": {},
   "source": [
    "### Basic Patterns: Ordinary Characters"
   ]
  },
  {
   "cell_type": "code",
   "execution_count": 16,
   "metadata": {},
   "outputs": [],
   "source": [
    "# match(): this checks if sequence is at start of string..\n",
    "# Signature: re.match(pattern, string, flags=0)\n",
    "\n",
    "import re\n",
    "\n",
    "string1 = \"Cookie\"\n",
    "string2 = \"I want Cookie\"\n",
    "\n",
    "# sequence is nothing but word/string u want to match in goven string..\n",
    "sequence = \"Cookie\"\n",
    "\n",
    "\n",
    "# function creted for understanding..this is for understanding\n",
    "def match(pattern, sequence):\n",
    "    if re.match(pattern, sequence):\n",
    "        print(\"Match!\")\n",
    "    else: \n",
    "        print(\"Not a match!\")"
   ]
  },
  {
   "cell_type": "code",
   "execution_count": 17,
   "metadata": {},
   "outputs": [
    {
     "name": "stdout",
     "output_type": "stream",
     "text": [
      "Match!\n",
      "Not a match!\n"
     ]
    }
   ],
   "source": [
    "# lets test..\n",
    "\n",
    "match(string1, sequence)\n",
    "match(string2, sequence)"
   ]
  },
  {
   "cell_type": "code",
   "execution_count": 25,
   "metadata": {},
   "outputs": [
    {
     "data": {
      "text/plain": [
       "'Cookie'"
      ]
     },
     "execution_count": 25,
     "metadata": {},
     "output_type": "execute_result"
    }
   ],
   "source": [
    "# alternatively u can use directly...\n",
    "\n",
    "re.match(string1, sequence).group()"
   ]
  },
  {
   "cell_type": "markdown",
   "metadata": {},
   "source": [
    "### Wild Card Characters: Special Characters"
   ]
  },
  {
   "cell_type": "markdown",
   "metadata": {},
   "source": [
    " #### re.search() :\n",
    "With the search function, you scan through the given string/sequence, looking for the first location where the regular expression produces a match.\n",
    "\n",
    "\n",
    " #### re.group()\n",
    "The group function returns the string matched by the re.\n",
    "\n",
    " #### Special Characters:\n",
    " \n",
    " https://docs.python.org/3/library/re.html#module-re\n",
    " \n",
    " https://www.datacamp.com/community/tutorials/python-regular-expression-tutorial"
   ]
  },
  {
   "cell_type": "code",
   "execution_count": 81,
   "metadata": {},
   "outputs": [
    {
     "name": "stdout",
     "output_type": "stream",
     "text": [
      "Email address: support@datacamp.com\n",
      "Username: support\n",
      "Host: datacamp.com\n"
     ]
    }
   ],
   "source": [
    "statement = 'Please contact us at: support@datacamp.com'\n",
    "match = re.search(r'([\\w\\.-]+)@([\\w\\.]+)', statement)\n",
    "if statement:\n",
    "    print(\"Email address:\", match.group()) # The whole matched text\n",
    "    print(\"Username:\", match.group(1)) # The username (group 1)\n",
    "    print(\"Host:\", match.group(2)) # The host (group 2)"
   ]
  },
  {
   "cell_type": "code",
   "execution_count": null,
   "metadata": {},
   "outputs": [],
   "source": []
  },
  {
   "cell_type": "code",
   "execution_count": null,
   "metadata": {},
   "outputs": [],
   "source": []
  }
 ],
 "metadata": {
  "kernelspec": {
   "display_name": "Python 3",
   "language": "python",
   "name": "python3"
  },
  "language_info": {
   "codemirror_mode": {
    "name": "ipython",
    "version": 3
   },
   "file_extension": ".py",
   "mimetype": "text/x-python",
   "name": "python",
   "nbconvert_exporter": "python",
   "pygments_lexer": "ipython3",
   "version": "3.8.0"
  }
 },
 "nbformat": 4,
 "nbformat_minor": 4
}
